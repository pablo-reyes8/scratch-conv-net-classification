{
 "cells": [
  {
   "cell_type": "markdown",
   "metadata": {},
   "source": [
    "# Motivation\n",
    "\n",
    "In this cell we set up the data pipeline for the Plant Seedlings Classification task: loading image file paths and labels, constructing and splitting training/validation DataFrames, and defining a batch generator that yields resized images and one-hot encoded labels for model training.\n"
   ]
  },
  {
   "cell_type": "markdown",
   "metadata": {},
   "source": [
    "### Import the librarys "
   ]
  },
  {
   "cell_type": "code",
   "execution_count": 1,
   "metadata": {},
   "outputs": [],
   "source": [
    "import sys \n",
    "from pathlib import Path\n",
    "\n",
    "cwd = Path.cwd()\n",
    "if  (cwd / 'src').exists():              \n",
    "    src_dir = cwd / 'src'\n",
    "elif(cwd.parent / 'src').exists():        \n",
    "    src_dir = cwd.parent / 'src'\n",
    "else:\n",
    "    raise FileNotFoundError(\"No pude encontrar la carpeta 'src/'\")\n",
    "\n",
    "sys.path.insert(0, str(src_dir))\n",
    "\n",
    "from data_loader import *"
   ]
  },
  {
   "cell_type": "markdown",
   "metadata": {},
   "source": [
    "### Load the images "
   ]
  },
  {
   "cell_type": "code",
   "execution_count": 6,
   "metadata": {},
   "outputs": [
    {
     "name": "stdout",
     "output_type": "stream",
     "text": [
      "Train: 3800 filas, Val: 950 filas\n",
      "Test: 794 filas\n"
     ]
    }
   ],
   "source": [
    "base_dir = Path('..') / Path('plant-seedlings-classification')\n",
    "train_dir = base_dir / 'train'\n",
    "test_dir  = base_dir / 'test'\n",
    "\n",
    "if not train_dir.exists():\n",
    "    raise FileNotFoundError(f\"No se encontró: {train_dir}\")\n",
    "\n",
    "\n",
    "train_rows = []\n",
    "for class_dir in train_dir.iterdir():\n",
    "    if class_dir.is_dir():\n",
    "        for img_path in class_dir.glob('*.*'):\n",
    "            train_rows.append({\n",
    "                'filepath': str(img_path),\n",
    "                'label': class_dir.name\n",
    "            })\n",
    "\n",
    "df_train = pd.DataFrame(train_rows)\n",
    "df_train_shuffled = df_train.sample(frac=1, random_state=9).reset_index(drop=True)\n",
    "\n",
    "n = len(df_train)\n",
    "split_idx = int(0.8 * n)\n",
    "train_df = df_train.iloc[:split_idx].copy()\n",
    "val_df   = df_train.iloc[split_idx:].copy()\n",
    "print(f\"Train: {len(train_df)} filas, Val: {len(val_df)} filas\")\n",
    "\n",
    "\n",
    "# DataFrame de test (sin labels)\n",
    "test_rows = []\n",
    "for img_path in test_dir.glob('*.*'):\n",
    "    test_rows.append({'filepath': str(img_path)})\n",
    "df_test = pd.DataFrame(test_rows)\n",
    "print(f\"Test: {len(df_test)} filas\")"
   ]
  },
  {
   "cell_type": "markdown",
   "metadata": {},
   "source": [
    "### Crate label_list and label2idx for the functions "
   ]
  },
  {
   "cell_type": "code",
   "execution_count": 7,
   "metadata": {},
   "outputs": [],
   "source": [
    "label_list = sorted(df_train['label'].unique())\n",
    "label2idx  = {label: i for i, label in enumerate(label_list)}"
   ]
  },
  {
   "cell_type": "markdown",
   "metadata": {},
   "source": [
    "### test some bathces "
   ]
  },
  {
   "cell_type": "code",
   "execution_count": 9,
   "metadata": {},
   "outputs": [
    {
     "name": "stdout",
     "output_type": "stream",
     "text": [
      "(16, 64, 64, 3) (16, 12)\n"
     ]
    }
   ],
   "source": [
    "batch_size = 16\n",
    "gen = batch_generator(train_df, batch_size=batch_size , label2idx=label2idx , label_list=label_list)\n",
    "X_batch, y_batch = next(gen)\n",
    "print(X_batch.shape, y_batch.shape) "
   ]
  },
  {
   "cell_type": "code",
   "execution_count": 10,
   "metadata": {},
   "outputs": [
    {
     "name": "stdout",
     "output_type": "stream",
     "text": [
      "(32, 64, 64, 3) (32, 12)\n"
     ]
    }
   ],
   "source": [
    "batch_size = 32\n",
    "gen = batch_generator(train_df, batch_size=batch_size , label2idx=label2idx , label_list=label_list)\n",
    "X_batch, y_batch = next(gen)\n",
    "print(X_batch.shape, y_batch.shape) "
   ]
  },
  {
   "cell_type": "code",
   "execution_count": 11,
   "metadata": {},
   "outputs": [
    {
     "name": "stdout",
     "output_type": "stream",
     "text": [
      "(32, 128, 128, 3) (32, 12)\n"
     ]
    }
   ],
   "source": [
    "batch_size = 32\n",
    "gen = batch_generator(train_df, batch_size=batch_size , label2idx=label2idx , label_list=label_list , target_size=(128,128))\n",
    "X_batch, y_batch = next(gen)\n",
    "print(X_batch.shape, y_batch.shape) "
   ]
  },
  {
   "cell_type": "markdown",
   "metadata": {},
   "source": [
    "## Pablo Reyes "
   ]
  }
 ],
 "metadata": {
  "kernelspec": {
   "display_name": "Python 3",
   "language": "python",
   "name": "python3"
  },
  "language_info": {
   "codemirror_mode": {
    "name": "ipython",
    "version": 3
   },
   "file_extension": ".py",
   "mimetype": "text/x-python",
   "name": "python",
   "nbconvert_exporter": "python",
   "pygments_lexer": "ipython3",
   "version": "3.10.11"
  }
 },
 "nbformat": 4,
 "nbformat_minor": 2
}
