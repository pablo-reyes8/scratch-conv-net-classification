{
 "cells": [
  {
   "cell_type": "markdown",
   "metadata": {},
   "source": [
    "# Overview: `tests/test_layers.py`\n",
    "\n",
    "This notebook cell contains **unit tests** for each core layer in our “from scratch” CNN implementation. It verifies both **forward** and **backward** behavior on small, controlled inputs.\n",
    "\n",
    "---\n",
    "\n",
    "## Contents\n",
    "\n",
    "1. **ReLU**\n",
    "   - **Forward**: negative inputs should become zero.\n",
    "   - **Backward**: gradient only flows where input was positive.\n",
    "\n",
    "2. **MaxPool2D**\n",
    "   - **Forward**: on a 4×4 example, checks that each 2×2 window yields the correct maximum.\n",
    "   - **Backward**: with `dA=1`, ensures gradient is routed back exactly to the positions of those maxima.\n",
    "\n",
    "3. **Conv2D (identity filter)**\n",
    "   - Builds a 2×2 identity filter on a 3×3×1 input.\n",
    "   - **Forward**: output entries equal the sum of the corresponding diagonal input elements.\n",
    "   - (Optional) **Backward**: could be tested by checking shapes and a known gradient.\n",
    "\n",
    "4. **Flatten + Dense (softmax)**\n",
    "   - **Flatten**: converts a (1,2,2,1) tensor into shape (1,4).\n",
    "   - **Dense**: with a fixed seed, \n",
    "     - checks that the softmax outputs sum to 1 along each row,\n",
    "     - confirms `backward` returns a gradient of shape `(1,4)`.\n",
    "\n",
    "---\n",
    "\n",
    "By running these tests on trivial inputs, we gain confidence that each layer’s implementation is correct before moving on to full‑scale training."
   ]
  },
  {
   "cell_type": "code",
   "execution_count": 1,
   "metadata": {},
   "outputs": [],
   "source": [
    "import sys \n",
    "from pathlib import Path\n",
    "import numpy as np\n",
    "\n",
    "cwd = Path.cwd()\n",
    "if  (cwd / 'src').exists():              \n",
    "    src_dir = cwd / 'src'\n",
    "elif(cwd.parent / 'src').exists():        \n",
    "    src_dir = cwd.parent / 'src'\n",
    "else:\n",
    "    raise FileNotFoundError(\"No pude encontrar la carpeta 'src/'\")\n",
    "\n",
    "sys.path.insert(0, str(src_dir))\n",
    "\n",
    "from layers.conv2d      import Conv2D\n",
    "from layers.activations import ReLU\n",
    "from layers.pooling     import MaxPool2D\n",
    "from layers.dense       import *\n",
    "\n",
    "from train import *\n"
   ]
  },
  {
   "cell_type": "markdown",
   "metadata": {},
   "source": [
    "### Test Relu forward"
   ]
  },
  {
   "cell_type": "code",
   "execution_count": 8,
   "metadata": {},
   "outputs": [
    {
     "name": "stdout",
     "output_type": "stream",
     "text": [
      "✅ ReLU forward test passed!\n"
     ]
    }
   ],
   "source": [
    "def test_relu_forward_backward():\n",
    "    Z = np.array([[-1, 2], [0, -3]], dtype=float)\n",
    "    relu = ReLU()\n",
    "    A = relu.forward(Z)\n",
    "\n",
    "    assert np.array_equal(A, np.array([[0,2],[0,0]]))\n",
    "    dA = np.array([[1,1],[1,1]], dtype=float)\n",
    "    dZ = relu.backward(dA)\n",
    "\n",
    "    assert np.array_equal(dZ, np.array([[0,1],[0,0]]))\n",
    "\n",
    "try:\n",
    "    test_relu_forward_backward()\n",
    "    print(\"✅ ReLU forward test passed!\")\n",
    "except AssertionError as e:\n",
    "    print(\"❌ ReLU test failed:\", e)\n"
   ]
  },
  {
   "cell_type": "markdown",
   "metadata": {},
   "source": [
    "### Test Pool layer forward "
   ]
  },
  {
   "cell_type": "code",
   "execution_count": 7,
   "metadata": {},
   "outputs": [
    {
     "name": "stdout",
     "output_type": "stream",
     "text": [
      "✅ Pool layer forward test passed!\n"
     ]
    }
   ],
   "source": [
    "def test_pool_forward_backward():\n",
    "    A_prev = np.arange(16).reshape(1,4,4,1).astype(float)\n",
    "    pool = MaxPool2D(f=2, stride=2)\n",
    "    A, cache = pool.forward(A_prev), pool.cache\n",
    "\n",
    "    assert A.shape == (1,2,2,1)\n",
    "    assert A[0,:,:,0].tolist() == [[5,7],[13,15]]\n",
    "\n",
    "\n",
    "    dA = np.ones_like(A)\n",
    "    dA_prev = pool.backward(dA)\n",
    "\n",
    "    expected = np.zeros_like(A_prev)\n",
    "    for val in (5,7,13,15):\n",
    "        idx = np.where(A_prev==val)\n",
    "        expected[idx] = 1\n",
    "    assert np.array_equal(dA_prev, expected)\n",
    "\n",
    "\n",
    "try:\n",
    "    test_pool_forward_backward()\n",
    "    print(\"✅ Pool layer forward test passed!\")\n",
    "except AssertionError as e:\n",
    "    print(\"❌ Pool layer test failed:\", e)"
   ]
  },
  {
   "cell_type": "markdown",
   "metadata": {},
   "source": [
    "### Test Conv Layer "
   ]
  },
  {
   "cell_type": "code",
   "execution_count": 9,
   "metadata": {},
   "outputs": [
    {
     "name": "stdout",
     "output_type": "stream",
     "text": [
      "✅ Conv2d layer forward test passed!\n"
     ]
    }
   ],
   "source": [
    "def test_conv_single_identity():\n",
    "\n",
    "    A_prev = np.arange(9).reshape(1,3,3,1).astype(float)\n",
    "    conv = Conv2D(n_C_prev=1, n_C=1, f=2, stride=1, pad=0, initialization='rand')\n",
    "\n",
    "\n",
    "    conv.W[:] = np.array([[[[1.]] , [[0.]]],[[[0.]] , [[1.]]]])\n",
    "    conv.b[:] = 0\n",
    "    Z = conv.forward(A_prev)\n",
    "\n",
    "    assert Z.shape == (1,2,2,1)\n",
    "    assert Z[0,0,0,0] == A_prev[0,0,0,0] + A_prev[0,1,1,0]\n",
    "\n",
    "\n",
    "try:\n",
    "    test_conv_single_identity()\n",
    "    print(\"✅ Conv2d layer forward test passed!\")\n",
    "except AssertionError as e:\n",
    "    print(\"❌ Conv2d layer test failed:\", e)\n",
    "\n"
   ]
  },
  {
   "cell_type": "markdown",
   "metadata": {},
   "source": [
    "### Test dense layer "
   ]
  },
  {
   "cell_type": "code",
   "execution_count": 13,
   "metadata": {},
   "outputs": [
    {
     "name": "stdout",
     "output_type": "stream",
     "text": [
      "✅ Dense layer forward test passed!\n"
     ]
    }
   ],
   "source": [
    "def test_flatten_and_dense_smoke():\n",
    "    A_prev = np.array([[[[1],[2]],[[3],[4]]]], dtype=float)  # (1,2,2,1)\n",
    "    flat = Flatten()\n",
    "    D = flat.forward(A_prev)\n",
    "\n",
    "    assert D.shape == (1,4)\n",
    "    dense = Dense(n_units=3, initialization='rand', seed=0)\n",
    "    A = dense.forward(D)\n",
    "\n",
    "    assert np.allclose(A.sum(axis=1), 1.0)\n",
    "\n",
    "    dA = np.random.randn(1,3)\n",
    "    dD = dense.backward(dA)\n",
    "    assert dD.shape == D.shape\n",
    "\n",
    "try:\n",
    "    test_flatten_and_dense_smoke()\n",
    "    print(\"✅ Dense layer forward test passed!\")\n",
    "except AssertionError as e:\n",
    "    print(\"❌ Dense layer test failed:\", e)"
   ]
  },
  {
   "cell_type": "markdown",
   "metadata": {},
   "source": [
    "## Test the full model "
   ]
  },
  {
   "cell_type": "code",
   "execution_count": 3,
   "metadata": {},
   "outputs": [
    {
     "name": "stdout",
     "output_type": "stream",
     "text": [
      "✅ Model forward and backward test passed!\n"
     ]
    }
   ],
   "source": [
    "def test_model_pipeline_shapes():\n",
    "\n",
    "    model = crear_modelo(filters=[3,4], pool=[1], n_classes=2)\n",
    "    X = np.random.randn(2, 8, 8, 3).astype(float)  \n",
    "    y = np.zeros((2,2))\n",
    "    y[np.arange(2), np.random.randint(0,2,2)] = 1\n",
    "\n",
    "    A_out, _ = conv_net_forward(model, X)\n",
    "    assert A_out.shape == (2,2)\n",
    "\n",
    "\n",
    "    grads = conv_net_backward(model, A_out, y, lr=1e-3)\n",
    "\n",
    "    assert 'dW1 conv2d' in grads\n",
    "    assert 'db1 conv2d' in grads\n",
    "\n",
    "\n",
    "try:\n",
    "    test_model_pipeline_shapes()\n",
    "    print(\"✅ Model forward and backward test passed!\")\n",
    "except AssertionError as e:\n",
    "    print(\"❌ Model forward and backward test failed:\", e)"
   ]
  },
  {
   "cell_type": "markdown",
   "metadata": {},
   "source": [
    "## Pablo Reyes "
   ]
  }
 ],
 "metadata": {
  "kernelspec": {
   "display_name": "Python 3",
   "language": "python",
   "name": "python3"
  },
  "language_info": {
   "codemirror_mode": {
    "name": "ipython",
    "version": 3
   },
   "file_extension": ".py",
   "mimetype": "text/x-python",
   "name": "python",
   "nbconvert_exporter": "python",
   "pygments_lexer": "ipython3",
   "version": "3.10.11"
  }
 },
 "nbformat": 4,
 "nbformat_minor": 2
}
